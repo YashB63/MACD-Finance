{
 "cells": [
  {
   "cell_type": "code",
   "execution_count": 47,
   "metadata": {},
   "outputs": [],
   "source": [
    "import yfinance as yf\n",
    "import matplotlib.pyplot as plt\n",
    "import pandas as pd"
   ]
  },
  {
   "cell_type": "code",
   "execution_count": 11,
   "metadata": {},
   "outputs": [
    {
     "name": "stdout",
     "output_type": "stream",
     "text": [
      "[*********************100%***********************]  1 of 1 completed\n"
     ]
    }
   ],
   "source": [
    "df = yf.download('MSFT', start='2023-1-1')"
   ]
  },
  {
   "cell_type": "code",
   "execution_count": 12,
   "metadata": {},
   "outputs": [
    {
     "data": {
      "text/html": [
       "<div>\n",
       "<style scoped>\n",
       "    .dataframe tbody tr th:only-of-type {\n",
       "        vertical-align: middle;\n",
       "    }\n",
       "\n",
       "    .dataframe tbody tr th {\n",
       "        vertical-align: top;\n",
       "    }\n",
       "\n",
       "    .dataframe thead th {\n",
       "        text-align: right;\n",
       "    }\n",
       "</style>\n",
       "<table border=\"1\" class=\"dataframe\">\n",
       "  <thead>\n",
       "    <tr style=\"text-align: right;\">\n",
       "      <th></th>\n",
       "      <th>Open</th>\n",
       "      <th>High</th>\n",
       "      <th>Low</th>\n",
       "      <th>Close</th>\n",
       "      <th>Adj Close</th>\n",
       "      <th>Volume</th>\n",
       "    </tr>\n",
       "    <tr>\n",
       "      <th>Date</th>\n",
       "      <th></th>\n",
       "      <th></th>\n",
       "      <th></th>\n",
       "      <th></th>\n",
       "      <th></th>\n",
       "      <th></th>\n",
       "    </tr>\n",
       "  </thead>\n",
       "  <tbody>\n",
       "    <tr>\n",
       "      <th>2023-01-03</th>\n",
       "      <td>243.080002</td>\n",
       "      <td>245.750000</td>\n",
       "      <td>237.399994</td>\n",
       "      <td>239.580002</td>\n",
       "      <td>238.460144</td>\n",
       "      <td>25740000</td>\n",
       "    </tr>\n",
       "    <tr>\n",
       "      <th>2023-01-04</th>\n",
       "      <td>232.279999</td>\n",
       "      <td>232.869995</td>\n",
       "      <td>225.960007</td>\n",
       "      <td>229.100006</td>\n",
       "      <td>228.029129</td>\n",
       "      <td>50623400</td>\n",
       "    </tr>\n",
       "    <tr>\n",
       "      <th>2023-01-05</th>\n",
       "      <td>227.199997</td>\n",
       "      <td>227.550003</td>\n",
       "      <td>221.759995</td>\n",
       "      <td>222.309998</td>\n",
       "      <td>221.270844</td>\n",
       "      <td>39585600</td>\n",
       "    </tr>\n",
       "    <tr>\n",
       "      <th>2023-01-06</th>\n",
       "      <td>223.000000</td>\n",
       "      <td>225.759995</td>\n",
       "      <td>219.350006</td>\n",
       "      <td>224.929993</td>\n",
       "      <td>223.878601</td>\n",
       "      <td>43613600</td>\n",
       "    </tr>\n",
       "    <tr>\n",
       "      <th>2023-01-09</th>\n",
       "      <td>226.449997</td>\n",
       "      <td>231.240005</td>\n",
       "      <td>226.410004</td>\n",
       "      <td>227.119995</td>\n",
       "      <td>226.058380</td>\n",
       "      <td>27369800</td>\n",
       "    </tr>\n",
       "  </tbody>\n",
       "</table>\n",
       "</div>"
      ],
      "text/plain": [
       "                  Open        High         Low       Close   Adj Close   \n",
       "Date                                                                     \n",
       "2023-01-03  243.080002  245.750000  237.399994  239.580002  238.460144  \\\n",
       "2023-01-04  232.279999  232.869995  225.960007  229.100006  228.029129   \n",
       "2023-01-05  227.199997  227.550003  221.759995  222.309998  221.270844   \n",
       "2023-01-06  223.000000  225.759995  219.350006  224.929993  223.878601   \n",
       "2023-01-09  226.449997  231.240005  226.410004  227.119995  226.058380   \n",
       "\n",
       "              Volume  \n",
       "Date                  \n",
       "2023-01-03  25740000  \n",
       "2023-01-04  50623400  \n",
       "2023-01-05  39585600  \n",
       "2023-01-06  43613600  \n",
       "2023-01-09  27369800  "
      ]
     },
     "execution_count": 12,
     "metadata": {},
     "output_type": "execute_result"
    }
   ],
   "source": [
    "df.head()"
   ]
  },
  {
   "cell_type": "code",
   "execution_count": 16,
   "metadata": {},
   "outputs": [],
   "source": [
    "def MACD(df):\n",
    "    df['EMA12'] = df.Close.ewm(span=12).mean()# if you want to be 100% mathematically correct you can use argument adjusted=True inside ewm\n",
    "    df['EMA26'] = df.Close.ewm(span=26).mean()\n",
    "    df['MACD'] = df.EMA12 - df.EMA26\n",
    "    df['signal'] = df.MACD.ewm(span=9).mean()\n",
    "    print('Indicators Added!')"
   ]
  },
  {
   "cell_type": "code",
   "execution_count": 17,
   "metadata": {},
   "outputs": [
    {
     "name": "stdout",
     "output_type": "stream",
     "text": [
      "Indicators Added!\n"
     ]
    }
   ],
   "source": [
    "MACD(df)"
   ]
  },
  {
   "cell_type": "code",
   "execution_count": 18,
   "metadata": {},
   "outputs": [
    {
     "data": {
      "text/html": [
       "<div>\n",
       "<style scoped>\n",
       "    .dataframe tbody tr th:only-of-type {\n",
       "        vertical-align: middle;\n",
       "    }\n",
       "\n",
       "    .dataframe tbody tr th {\n",
       "        vertical-align: top;\n",
       "    }\n",
       "\n",
       "    .dataframe thead th {\n",
       "        text-align: right;\n",
       "    }\n",
       "</style>\n",
       "<table border=\"1\" class=\"dataframe\">\n",
       "  <thead>\n",
       "    <tr style=\"text-align: right;\">\n",
       "      <th></th>\n",
       "      <th>Open</th>\n",
       "      <th>High</th>\n",
       "      <th>Low</th>\n",
       "      <th>Close</th>\n",
       "      <th>Adj Close</th>\n",
       "      <th>Volume</th>\n",
       "      <th>EMA12</th>\n",
       "      <th>EMA26</th>\n",
       "      <th>MACD</th>\n",
       "      <th>signal</th>\n",
       "    </tr>\n",
       "    <tr>\n",
       "      <th>Date</th>\n",
       "      <th></th>\n",
       "      <th></th>\n",
       "      <th></th>\n",
       "      <th></th>\n",
       "      <th></th>\n",
       "      <th></th>\n",
       "      <th></th>\n",
       "      <th></th>\n",
       "      <th></th>\n",
       "      <th></th>\n",
       "    </tr>\n",
       "  </thead>\n",
       "  <tbody>\n",
       "    <tr>\n",
       "      <th>2023-01-03</th>\n",
       "      <td>243.080002</td>\n",
       "      <td>245.750000</td>\n",
       "      <td>237.399994</td>\n",
       "      <td>239.580002</td>\n",
       "      <td>238.460144</td>\n",
       "      <td>25740000</td>\n",
       "      <td>239.580002</td>\n",
       "      <td>239.580002</td>\n",
       "      <td>0.000000</td>\n",
       "      <td>0.000000</td>\n",
       "    </tr>\n",
       "    <tr>\n",
       "      <th>2023-01-04</th>\n",
       "      <td>232.279999</td>\n",
       "      <td>232.869995</td>\n",
       "      <td>225.960007</td>\n",
       "      <td>229.100006</td>\n",
       "      <td>228.029129</td>\n",
       "      <td>50623400</td>\n",
       "      <td>233.903337</td>\n",
       "      <td>234.138466</td>\n",
       "      <td>-0.235128</td>\n",
       "      <td>-0.130627</td>\n",
       "    </tr>\n",
       "    <tr>\n",
       "      <th>2023-01-05</th>\n",
       "      <td>227.199997</td>\n",
       "      <td>227.550003</td>\n",
       "      <td>221.759995</td>\n",
       "      <td>222.309998</td>\n",
       "      <td>221.270844</td>\n",
       "      <td>39585600</td>\n",
       "      <td>229.378454</td>\n",
       "      <td>229.888612</td>\n",
       "      <td>-0.510158</td>\n",
       "      <td>-0.286172</td>\n",
       "    </tr>\n",
       "    <tr>\n",
       "      <th>2023-01-06</th>\n",
       "      <td>223.000000</td>\n",
       "      <td>225.759995</td>\n",
       "      <td>219.350006</td>\n",
       "      <td>224.929993</td>\n",
       "      <td>223.878601</td>\n",
       "      <td>43613600</td>\n",
       "      <td>227.974249</td>\n",
       "      <td>228.502399</td>\n",
       "      <td>-0.528150</td>\n",
       "      <td>-0.368143</td>\n",
       "    </tr>\n",
       "    <tr>\n",
       "      <th>2023-01-09</th>\n",
       "      <td>226.449997</td>\n",
       "      <td>231.240005</td>\n",
       "      <td>226.410004</td>\n",
       "      <td>227.119995</td>\n",
       "      <td>226.058380</td>\n",
       "      <td>27369800</td>\n",
       "      <td>227.742151</td>\n",
       "      <td>228.181814</td>\n",
       "      <td>-0.439662</td>\n",
       "      <td>-0.389418</td>\n",
       "    </tr>\n",
       "    <tr>\n",
       "      <th>...</th>\n",
       "      <td>...</td>\n",
       "      <td>...</td>\n",
       "      <td>...</td>\n",
       "      <td>...</td>\n",
       "      <td>...</td>\n",
       "      <td>...</td>\n",
       "      <td>...</td>\n",
       "      <td>...</td>\n",
       "      <td>...</td>\n",
       "      <td>...</td>\n",
       "    </tr>\n",
       "    <tr>\n",
       "      <th>2023-06-12</th>\n",
       "      <td>328.579987</td>\n",
       "      <td>332.100006</td>\n",
       "      <td>325.160004</td>\n",
       "      <td>331.850006</td>\n",
       "      <td>331.850006</td>\n",
       "      <td>24260300</td>\n",
       "      <td>327.524872</td>\n",
       "      <td>320.468804</td>\n",
       "      <td>7.056068</td>\n",
       "      <td>8.114178</td>\n",
       "    </tr>\n",
       "    <tr>\n",
       "      <th>2023-06-13</th>\n",
       "      <td>334.470001</td>\n",
       "      <td>336.980011</td>\n",
       "      <td>330.390015</td>\n",
       "      <td>334.290009</td>\n",
       "      <td>334.290009</td>\n",
       "      <td>22951300</td>\n",
       "      <td>328.565662</td>\n",
       "      <td>321.492782</td>\n",
       "      <td>7.072880</td>\n",
       "      <td>7.905919</td>\n",
       "    </tr>\n",
       "    <tr>\n",
       "      <th>2023-06-14</th>\n",
       "      <td>334.339996</td>\n",
       "      <td>339.040009</td>\n",
       "      <td>332.809998</td>\n",
       "      <td>337.339996</td>\n",
       "      <td>337.339996</td>\n",
       "      <td>26003800</td>\n",
       "      <td>329.915559</td>\n",
       "      <td>322.666846</td>\n",
       "      <td>7.248714</td>\n",
       "      <td>7.774478</td>\n",
       "    </tr>\n",
       "    <tr>\n",
       "      <th>2023-06-15</th>\n",
       "      <td>337.480011</td>\n",
       "      <td>349.839996</td>\n",
       "      <td>337.200012</td>\n",
       "      <td>348.100006</td>\n",
       "      <td>348.100006</td>\n",
       "      <td>38899100</td>\n",
       "      <td>332.713167</td>\n",
       "      <td>324.551075</td>\n",
       "      <td>8.162091</td>\n",
       "      <td>7.852000</td>\n",
       "    </tr>\n",
       "    <tr>\n",
       "      <th>2023-06-16</th>\n",
       "      <td>351.320007</td>\n",
       "      <td>351.470001</td>\n",
       "      <td>341.950012</td>\n",
       "      <td>342.329987</td>\n",
       "      <td>342.329987</td>\n",
       "      <td>46533600</td>\n",
       "      <td>334.192677</td>\n",
       "      <td>325.868220</td>\n",
       "      <td>8.324457</td>\n",
       "      <td>7.946492</td>\n",
       "    </tr>\n",
       "  </tbody>\n",
       "</table>\n",
       "<p>115 rows × 10 columns</p>\n",
       "</div>"
      ],
      "text/plain": [
       "                  Open        High         Low       Close   Adj Close   \n",
       "Date                                                                     \n",
       "2023-01-03  243.080002  245.750000  237.399994  239.580002  238.460144  \\\n",
       "2023-01-04  232.279999  232.869995  225.960007  229.100006  228.029129   \n",
       "2023-01-05  227.199997  227.550003  221.759995  222.309998  221.270844   \n",
       "2023-01-06  223.000000  225.759995  219.350006  224.929993  223.878601   \n",
       "2023-01-09  226.449997  231.240005  226.410004  227.119995  226.058380   \n",
       "...                ...         ...         ...         ...         ...   \n",
       "2023-06-12  328.579987  332.100006  325.160004  331.850006  331.850006   \n",
       "2023-06-13  334.470001  336.980011  330.390015  334.290009  334.290009   \n",
       "2023-06-14  334.339996  339.040009  332.809998  337.339996  337.339996   \n",
       "2023-06-15  337.480011  349.839996  337.200012  348.100006  348.100006   \n",
       "2023-06-16  351.320007  351.470001  341.950012  342.329987  342.329987   \n",
       "\n",
       "              Volume       EMA12       EMA26      MACD    signal  \n",
       "Date                                                              \n",
       "2023-01-03  25740000  239.580002  239.580002  0.000000  0.000000  \n",
       "2023-01-04  50623400  233.903337  234.138466 -0.235128 -0.130627  \n",
       "2023-01-05  39585600  229.378454  229.888612 -0.510158 -0.286172  \n",
       "2023-01-06  43613600  227.974249  228.502399 -0.528150 -0.368143  \n",
       "2023-01-09  27369800  227.742151  228.181814 -0.439662 -0.389418  \n",
       "...              ...         ...         ...       ...       ...  \n",
       "2023-06-12  24260300  327.524872  320.468804  7.056068  8.114178  \n",
       "2023-06-13  22951300  328.565662  321.492782  7.072880  7.905919  \n",
       "2023-06-14  26003800  329.915559  322.666846  7.248714  7.774478  \n",
       "2023-06-15  38899100  332.713167  324.551075  8.162091  7.852000  \n",
       "2023-06-16  46533600  334.192677  325.868220  8.324457  7.946492  \n",
       "\n",
       "[115 rows x 10 columns]"
      ]
     },
     "execution_count": 18,
     "metadata": {},
     "output_type": "execute_result"
    }
   ],
   "source": [
    "df"
   ]
  },
  {
   "cell_type": "code",
   "execution_count": 28,
   "metadata": {},
   "outputs": [
    {
     "data": {
      "image/png": "[encoded data removed]",
      "text/plain": [
       "<Figure size 640x480 with 1 Axes>"
      ]
     },
     "metadata": {},
     "output_type": "display_data"
    }
   ],
   "source": [
    "plt.plot(df.signal, label='Signal line', color='red')\n",
    "plt.plot(df.MACD, label='MACD line', color='green')\n",
    "plt.legend()\n",
    "plt.show()"
   ]
  },
  {
   "cell_type": "code",
   "execution_count": 22,
   "metadata": {},
   "outputs": [],
   "source": [
    "buy, sell = [], []\n",
    "\n",
    "for i in range(2, len(df)):\n",
    "    #IF MACD value in every single row(the reason iloc is used) is larger than the signal value of every single row \n",
    "    # and also MACD value is smaller than the signal value of the day before\n",
    "    if df.MACD.iloc[i] > df.signal.iloc[i] and df.MACD.iloc[i-1] < df.signal.iloc[i-1]:\n",
    "        buy.append(i)\n",
    "    #reverse will be done for selling \n",
    "    elif df.MACD.iloc[i] < df.signal.iloc[i] and df.MACD.iloc[i-1] > df.signal.iloc[i-1]:\n",
    "        sell.append(i)"
   ]
  },
  {
   "cell_type": "code",
   "execution_count": 23,
   "metadata": {},
   "outputs": [
    {
     "data": {
      "text/plain": [
       "[5, 48, 79, 94, 99, 113]"
      ]
     },
     "execution_count": 23,
     "metadata": {},
     "output_type": "execute_result"
    }
   ],
   "source": [
    "buy # The below numbers are the row  numbers where these conditions are fulfilled"
   ]
  },
  {
   "cell_type": "code",
   "execution_count": 24,
   "metadata": {},
   "outputs": [
    {
     "data": {
      "text/plain": [
       "[32, 68, 91, 97, 107]"
      ]
     },
     "execution_count": 24,
     "metadata": {},
     "output_type": "execute_result"
    }
   ],
   "source": [
    "sell"
   ]
  },
  {
   "cell_type": "code",
   "execution_count": 27,
   "metadata": {},
   "outputs": [
    {
     "data": {
      "image/png": "[encoded data removed]",
      "text/plain": [
       "<Figure size 1400x600 with 1 Axes>"
      ]
     },
     "metadata": {},
     "output_type": "display_data"
    }
   ],
   "source": [
    "plt.figure(figsize=(14,6))\n",
    "plt.scatter(df.iloc[buy].index, df.iloc[buy].Close, marker=\"^\", color='green')\n",
    "plt.scatter(df.iloc[sell].index, df.iloc[sell].Close, marker=\"v\", color='red')\n",
    "plt.plot(df.Close, label='Microsoft Close', color='k')\n",
    "plt.legend()\n",
    "plt.show()"
   ]
  },
  {
   "cell_type": "code",
   "execution_count": 29,
   "metadata": {},
   "outputs": [
    {
     "data": {
      "text/plain": [
       "[5, 48, 79, 94, 99, 113]"
      ]
     },
     "execution_count": 29,
     "metadata": {},
     "output_type": "execute_result"
    }
   ],
   "source": [
    "buy"
   ]
  },
  {
   "cell_type": "code",
   "execution_count": 30,
   "metadata": {},
   "outputs": [],
   "source": [
    "#backtest\n",
    "\n",
    "real_buys = [i+1 for i in buy] #row plus 1 value for every single buy value\n",
    "real_sells = [i+1 for i in sell]"
   ]
  },
  {
   "cell_type": "code",
   "execution_count": 31,
   "metadata": {},
   "outputs": [],
   "source": [
    "buy_prices = df.Open.iloc[real_buys] #screening the real prices for open buy dates\n",
    "sell_prices = df.Open.iloc[real_sells]"
   ]
  },
  {
   "cell_type": "code",
   "execution_count": 32,
   "metadata": {},
   "outputs": [
    {
     "data": {
      "text/plain": [
       "Date\n",
       "2023-01-11    231.289993\n",
       "2023-03-15    259.980011\n",
       "2023-04-28    304.010010\n",
       "2023-05-19    316.739990\n",
       "2023-05-26    324.019989\n",
       "2023-06-16    351.320007\n",
       "Name: Open, dtype: float64"
      ]
     },
     "execution_count": 32,
     "metadata": {},
     "output_type": "execute_result"
    }
   ],
   "source": [
    "buy_prices"
   ]
  },
  {
   "cell_type": "code",
   "execution_count": 43,
   "metadata": {},
   "outputs": [],
   "source": [
    "# sometimes what will happen is you will have selling point(price) first but not buying point before it so we cannot calculate profit with it\n",
    "# also it can happen that buying point will be in the end but no selling price after it to calculate profit\n",
    "# So we have to those to cases \n",
    "\n",
    "\n",
    "if sell_prices.index[0] < buy_prices.index[0]:\n",
    "    sell_prices = sell_prices.drop(sell_prices.index[0])\n",
    "elif buy_prices.index[-1] > sell_prices.index[-1]:\n",
    "    buy_prices = buy_prices.drop(buy_prices.index[-1])"
   ]
  },
  {
   "cell_type": "code",
   "execution_count": 44,
   "metadata": {},
   "outputs": [],
   "source": [
    "relative_profits = []\n",
    "\n",
    "for i in range(len(sell_prices)):\n",
    "    relative_profits.append((sell_prices - buy_prices[i])/buy_prices[i])"
   ]
  },
  {
   "cell_type": "code",
   "execution_count": 45,
   "metadata": {},
   "outputs": [
    {
     "data": {
      "text/plain": [
       "[Date\n",
       " 2023-02-21    0.100264\n",
       " 2023-04-13    0.226123\n",
       " 2023-05-16    0.339574\n",
       " 2023-05-24    0.360759\n",
       " 2023-06-08    0.400579\n",
       " Name: Open, dtype: float64,\n",
       " Date\n",
       " 2023-02-21   -0.021156\n",
       " 2023-04-13    0.090815\n",
       " 2023-05-16    0.191745\n",
       " 2023-05-24    0.210593\n",
       " 2023-06-08    0.246019\n",
       " Name: Open, dtype: float64,\n",
       " Date\n",
       " 2023-02-21   -0.162922\n",
       " 2023-04-13   -0.067169\n",
       " 2023-05-16    0.019144\n",
       " 2023-05-24    0.035262\n",
       " 2023-06-08    0.065557\n",
       " Name: Open, dtype: float64,\n",
       " Date\n",
       " 2023-02-21   -0.196565\n",
       " 2023-04-13   -0.104660\n",
       " 2023-05-16   -0.021816\n",
       " 2023-05-24   -0.006346\n",
       " 2023-06-08    0.022732\n",
       " Name: Open, dtype: float64,\n",
       " Date\n",
       " 2023-02-21   -0.214616\n",
       " 2023-04-13   -0.124776\n",
       " 2023-05-16   -0.043794\n",
       " 2023-05-24   -0.028671\n",
       " 2023-06-08   -0.000247\n",
       " Name: Open, dtype: float64]"
      ]
     },
     "execution_count": 45,
     "metadata": {},
     "output_type": "execute_result"
    }
   ],
   "source": [
    "relative_profits"
   ]
  },
  {
   "cell_type": "code",
   "execution_count": 46,
   "metadata": {},
   "outputs": [
    {
     "data": {
      "text/plain": [
       "Date\n",
       "2023-02-21   -0.098999\n",
       "2023-04-13    0.004067\n",
       "2023-05-16    0.096971\n",
       "2023-05-24    0.114320\n",
       "2023-06-08    0.146928\n",
       "Name: Open, dtype: float64"
      ]
     },
     "execution_count": 46,
     "metadata": {},
     "output_type": "execute_result"
    }
   ],
   "source": [
    "# Average Profits\n",
    "\n",
    "sum(relative_profits)/len(relative_profits)"
   ]
  },
  {
   "cell_type": "code",
   "execution_count": 48,
   "metadata": {},
   "outputs": [
    {
     "data": {
      "text/plain": [
       "Date\n",
       "2023-02-21   -0.098999\n",
       "2023-04-13    0.004067\n",
       "2023-05-16    0.096971\n",
       "2023-05-24    0.114320\n",
       "2023-06-08    0.146928\n",
       "dtype: float64"
      ]
     },
     "execution_count": 48,
     "metadata": {},
     "output_type": "execute_result"
    }
   ],
   "source": [
    "pd.DataFrame(relative_profits).mean()"
   ]
  }
 ],
 "metadata": {
  "kernelspec": {
   "display_name": "Python 3",
   "language": "python",
   "name": "python3"
  },
  "language_info": {
   "codemirror_mode": {
    "name": "ipython",
    "version": 3
   },
   "file_extension": ".py",
   "mimetype": "text/x-python",
   "name": "python",
   "nbconvert_exporter": "python",
   "pygments_lexer": "ipython3",
   "version": "3.11.3"
  },
  "orig_nbformat": 4
 },
 "nbformat": 4,
 "nbformat_minor": 2
}
